{
 "cells": [
  {
   "cell_type": "code",
   "execution_count": 294,
   "id": "1197652e-9437-4bae-bea3-16be95f8a845",
   "metadata": {},
   "outputs": [],
   "source": [
    "import numpy as np\n",
    "import matplotlib.pyplot as plt\n",
    "import seaborn as sns\n",
    "from scipy.stats import norm\n",
    "from tqdm import tqdm"
   ]
  },
  {
   "cell_type": "code",
   "execution_count": 325,
   "id": "f4d4df34-0680-488a-90f0-5e6bd1498ff2",
   "metadata": {},
   "outputs": [],
   "source": [
    "T = 60\n",
    "kappa = 1.5\n",
    "sigma = 0.5\n",
    "p = 0.5\n",
    "batch_size = 100_000\n",
    "\n",
    "# exchange params\n",
    "Rx = 100\n",
    "Ry = 100\n",
    "phi = 0.01\n"
   ]
  },
  {
   "cell_type": "code",
   "execution_count": null,
   "id": "50e18d74-fa05-40bd-ab23-da06cf552fce",
   "metadata": {},
   "outputs": [
    {
     "name": "stderr",
     "output_type": "stream",
     "text": [
      "100%|███████████████████████████████████████████████████████████████████████████████████████████████████████████████████████████████████████████████████████████████████████████████████████████████████████████████████████████████| 100000/100000 [00:12<00:00, 7712.40it/s]\n"
     ]
    }
   ],
   "source": [
    "# actual simulator\n",
    "\n",
    "N = np.random.poisson(lam=T * kappa)\n",
    "zs = np.array([])\n",
    "\n",
    "for _ in tqdm(range(batch_size)):\n",
    "    Rx_ = Rx\n",
    "    Ry_ = Ry\n",
    "    for j in range(N):\n",
    "        if np.random.rand() < p:\n",
    "            mu = 0.\n",
    "            x = np.exp((mu - 0.5 * sigma ** 2) + sigma * np.random.randn())\n",
    "            y = x * (1 - phi) * Ry / (Rx + (1. - phi) * x)\n",
    "            Rx_ += x\n",
    "            Ry_ -= y\n",
    "        else:\n",
    "            mu = np.log(Ry/Rx)\n",
    "            y = np.exp((mu - 0.5 * sigma ** 2) + sigma * np.random.randn())\n",
    "            x = y * (1 - phi) * Rx / (Ry + (1 - phi) * y)\n",
    "            Rx_ -= x\n",
    "            Ry_ += y\n",
    "    zs = np.append(zs, np.sqrt(Rx_/Ry_))"
   ]
  },
  {
   "cell_type": "code",
   "execution_count": null,
   "id": "eba2301d-8ae1-4418-a125-ee5175058d4d",
   "metadata": {},
   "outputs": [
    {
     "name": "stdout",
     "output_type": "stream",
     "text": [
      "0.00014850375 0.0 0.012186211470346311\n",
      "0.9911293534166775 0.00883130239791935\n"
     ]
    }
   ],
   "source": [
    "# approximation\n",
    "\n",
    "theta = kappa * (2-phi)**2 / 4 / Rx / Ry\n",
    "nu = kappa * (p - 0.5) * 4 * np.sqrt(Rx*Ry) / sigma**2 / (2-phi)\n",
    "xi = np.sqrt(kappa) * sigma * (2-phi) / np.sqrt(Rx*Ry)\n",
    "\n",
    "print(theta, nu, xi)\n",
    "\n",
    "mean = np.sqrt(Rx/Ry) * np.exp(-theta * T) + (1 - np.exp(-theta * T)) * nu\n",
    "var = xi**2 / 2 / theta * (1 - np.exp(-2*theta*T))\n",
    "\n",
    "print(mean, var)"
   ]
  },
  {
   "cell_type": "code",
   "execution_count": null,
   "id": "6d0b42f9-de66-4853-ac8b-5c10130a7b9e",
   "metadata": {},
   "outputs": [
    {
     "data": {
      "text/plain": [
       "[<matplotlib.lines.Line2D at 0x177af3040>]"
      ]
     },
     "execution_count": 328,
     "metadata": {},
     "output_type": "execute_result"
    },
    {
     "data": {
      "image/png": "[encoded data removed]",
      "text/plain": [
       "<Figure size 432x288 with 1 Axes>"
      ]
     },
     "metadata": {
      "needs_background": "light"
     },
     "output_type": "display_data"
    }
   ],
   "source": [
    "# Plot the KDE plot for the dataset\n",
    "data = (zs - mean) / np.sqrt(var)\n",
    "sns.kdeplot(data, label='Data')\n",
    "\n",
    "# Plot the standard normal density line for comparison\n",
    "x = np.linspace(np.min(data), np.max(data), 1000)\n",
    "y = norm.pdf(x, 0, 1)\n",
    "plt.plot(x, y, label='Standard Normal', color='red', linestyle='--')\n"
   ]
  },
  {
   "cell_type": "code",
   "execution_count": null,
   "id": "61642ea4-3894-4397-9df2-acace264b2a6",
   "metadata": {},
   "outputs": [],
   "source": []
  }
 ],
 "metadata": {
  "kernelspec": {
   "display_name": "Python 3 (ipykernel)",
   "language": "python",
   "name": "python3"
  },
  "language_info": {
   "codemirror_mode": {
    "name": "ipython",
    "version": 3
   },
   "file_extension": ".py",
   "mimetype": "text/x-python",
   "name": "python",
   "nbconvert_exporter": "python",
   "pygments_lexer": "ipython3",
   "version": "3.9.13"
  }
 },
 "nbformat": 4,
 "nbformat_minor": 5
}
