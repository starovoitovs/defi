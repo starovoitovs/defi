{
 "cells": [
  {
   "cell_type": "code",
   "execution_count": 1,
   "metadata": {},
   "outputs": [],
   "source": [
    "from amm import amm\n",
    "import numpy as np\n",
    "from scipy.stats import norm\n",
    "\n",
    "import matplotlib.pyplot as plt\n",
    "# plt.style.use('paper.mplstyle')\n",
    "\n",
    "import seaborn as sns\n",
    "sns.set_theme(style=\"ticks\")\n",
    "\n",
    "import statsmodels.api as sm\n",
    "import matplotlib.ticker as mtick\n",
    "import pickle\n",
    "import pandas as pd"
   ]
  },
  {
   "cell_type": "markdown",
   "metadata": {},
   "source": [
    "# Helper functions"
   ]
  },
  {
   "cell_type": "code",
   "execution_count": 99,
   "metadata": {},
   "outputs": [],
   "source": [
    "def plot_hist(returns):\n",
    "    \n",
    "    zeta = 0.05\n",
    "    alpha = 0.05\n",
    "    \n",
    "    sns.kdeplot(returns)\n",
    "    \n",
    "    p = np.mean(returns >= zeta)\n",
    "    var = np.quantile(returns, alpha)\n",
    "    cvar = float(np.sum(returns * (returns <= var)) / np.sum(returns <= var)) / (1 - alpha)\n",
    "\n",
    "    plt.axvline(var, c='y', linestyle='--', label=f'VaR={var:4.2}')\n",
    "    plt.axvline(cvar, c='r', linestyle='--', label=f'CVaR={cvar:4.2}')\n",
    "    plt.axvline(zeta, c='g', linestyle='--', label=f'P={p}')\n",
    "    plt.legend()"
   ]
  },
  {
   "cell_type": "markdown",
   "metadata": {},
   "source": [
    "# Generate returns"
   ]
  },
  {
   "cell_type": "code",
   "execution_count": 2,
   "metadata": {},
   "outputs": [],
   "source": [
    "T = 60\n",
    "Rx = 100.\n",
    "Ry = 1000.\n",
    "batch_size = 1_000\n",
    "\n",
    "kappa = [0.25, 0.5, 0.5, 0.5, 0.5, 0.5, 0.5]\n",
    "sigma = [1, 0.3, 0.5, 1.5, 1.75, 2, 2.25]\n",
    "p = [0.35, 0.3, 0.34, 0.33, 0.32, 0.31, 0.3]\n",
    "phi = np.repeat(0.03, 7)"
   ]
  },
  {
   "cell_type": "code",
   "execution_count": 3,
   "metadata": {},
   "outputs": [
    {
     "name": "stderr",
     "output_type": "stream",
     "text": [
      "100%|██████████████████████████████████████████████████████████████████████████████████████████████████████████████████████████████████████████████████████████████████| 1000/1000 [00:03<00:00, 293.41it/s]\n"
     ]
    }
   ],
   "source": [
    "''' Initial reserves '''\n",
    "Rx0   = np.repeat(Rx, len(kappa))\n",
    "Ry0   = np.repeat(Ry, len(kappa))\n",
    "\n",
    "pools = amm(Rx=Rx0, Ry=Ry0, phi=phi)\n",
    "\n",
    "xs_0 = np.repeat(1., len(kappa))\n",
    "l = pools.swap_and_mint(xs_0)\n",
    "end_pools, Rx_t, Ry_t, v_t, event_type_t, event_direction_t = pools.simulate(kappa, p, sigma, T=T, batch_size=batch_size)"
   ]
  },
  {
   "cell_type": "code",
   "execution_count": 4,
   "metadata": {},
   "outputs": [
    {
     "data": {
      "text/html": [
       "<div>\n",
       "<style scoped>\n",
       "    .dataframe tbody tr th:only-of-type {\n",
       "        vertical-align: middle;\n",
       "    }\n",
       "\n",
       "    .dataframe tbody tr th {\n",
       "        vertical-align: top;\n",
       "    }\n",
       "\n",
       "    .dataframe thead th {\n",
       "        text-align: right;\n",
       "    }\n",
       "</style>\n",
       "<table border=\"1\" class=\"dataframe\">\n",
       "  <thead>\n",
       "    <tr style=\"text-align: right;\">\n",
       "      <th></th>\n",
       "      <th>0</th>\n",
       "      <th>1</th>\n",
       "      <th>2</th>\n",
       "      <th>3</th>\n",
       "      <th>4</th>\n",
       "      <th>5</th>\n",
       "      <th>6</th>\n",
       "    </tr>\n",
       "  </thead>\n",
       "  <tbody>\n",
       "    <tr>\n",
       "      <th>0</th>\n",
       "      <td>0.111588</td>\n",
       "      <td>0.185445</td>\n",
       "      <td>0.161610</td>\n",
       "      <td>0.108894</td>\n",
       "      <td>0.077804</td>\n",
       "      <td>0.076065</td>\n",
       "      <td>0.016832</td>\n",
       "    </tr>\n",
       "    <tr>\n",
       "      <th>1</th>\n",
       "      <td>0.075382</td>\n",
       "      <td>0.018312</td>\n",
       "      <td>-0.003182</td>\n",
       "      <td>-0.037618</td>\n",
       "      <td>-0.019501</td>\n",
       "      <td>-0.036197</td>\n",
       "      <td>-0.074053</td>\n",
       "    </tr>\n",
       "    <tr>\n",
       "      <th>2</th>\n",
       "      <td>0.203444</td>\n",
       "      <td>0.168818</td>\n",
       "      <td>0.160884</td>\n",
       "      <td>-0.198696</td>\n",
       "      <td>0.087980</td>\n",
       "      <td>0.809159</td>\n",
       "      <td>0.107549</td>\n",
       "    </tr>\n",
       "    <tr>\n",
       "      <th>3</th>\n",
       "      <td>0.174342</td>\n",
       "      <td>0.272652</td>\n",
       "      <td>0.139283</td>\n",
       "      <td>0.195973</td>\n",
       "      <td>0.187876</td>\n",
       "      <td>0.153496</td>\n",
       "      <td>0.106824</td>\n",
       "    </tr>\n",
       "    <tr>\n",
       "      <th>4</th>\n",
       "      <td>0.075768</td>\n",
       "      <td>0.094670</td>\n",
       "      <td>0.011364</td>\n",
       "      <td>0.095200</td>\n",
       "      <td>0.101521</td>\n",
       "      <td>0.010517</td>\n",
       "      <td>-0.029213</td>\n",
       "    </tr>\n",
       "    <tr>\n",
       "      <th>...</th>\n",
       "      <td>...</td>\n",
       "      <td>...</td>\n",
       "      <td>...</td>\n",
       "      <td>...</td>\n",
       "      <td>...</td>\n",
       "      <td>...</td>\n",
       "      <td>...</td>\n",
       "    </tr>\n",
       "    <tr>\n",
       "      <th>995</th>\n",
       "      <td>0.216016</td>\n",
       "      <td>0.101757</td>\n",
       "      <td>0.481145</td>\n",
       "      <td>0.131455</td>\n",
       "      <td>-0.719913</td>\n",
       "      <td>0.062105</td>\n",
       "      <td>0.044084</td>\n",
       "    </tr>\n",
       "    <tr>\n",
       "      <th>996</th>\n",
       "      <td>0.276465</td>\n",
       "      <td>0.236015</td>\n",
       "      <td>0.285515</td>\n",
       "      <td>0.332774</td>\n",
       "      <td>0.368256</td>\n",
       "      <td>0.113498</td>\n",
       "      <td>0.168820</td>\n",
       "    </tr>\n",
       "    <tr>\n",
       "      <th>997</th>\n",
       "      <td>0.275035</td>\n",
       "      <td>0.226176</td>\n",
       "      <td>0.179945</td>\n",
       "      <td>0.325228</td>\n",
       "      <td>-0.182384</td>\n",
       "      <td>0.465101</td>\n",
       "      <td>0.134615</td>\n",
       "    </tr>\n",
       "    <tr>\n",
       "      <th>998</th>\n",
       "      <td>0.084103</td>\n",
       "      <td>0.013292</td>\n",
       "      <td>0.087913</td>\n",
       "      <td>-0.004762</td>\n",
       "      <td>0.097507</td>\n",
       "      <td>0.184005</td>\n",
       "      <td>-0.029466</td>\n",
       "    </tr>\n",
       "    <tr>\n",
       "      <th>999</th>\n",
       "      <td>0.030540</td>\n",
       "      <td>0.189827</td>\n",
       "      <td>-0.030116</td>\n",
       "      <td>0.148477</td>\n",
       "      <td>0.092187</td>\n",
       "      <td>0.110406</td>\n",
       "      <td>0.048569</td>\n",
       "    </tr>\n",
       "  </tbody>\n",
       "</table>\n",
       "<p>1000 rows × 7 columns</p>\n",
       "</div>"
      ],
      "text/plain": [
       "            0         1         2         3         4         5         6\n",
       "0    0.111588  0.185445  0.161610  0.108894  0.077804  0.076065  0.016832\n",
       "1    0.075382  0.018312 -0.003182 -0.037618 -0.019501 -0.036197 -0.074053\n",
       "2    0.203444  0.168818  0.160884 -0.198696  0.087980  0.809159  0.107549\n",
       "3    0.174342  0.272652  0.139283  0.195973  0.187876  0.153496  0.106824\n",
       "4    0.075768  0.094670  0.011364  0.095200  0.101521  0.010517 -0.029213\n",
       "..        ...       ...       ...       ...       ...       ...       ...\n",
       "995  0.216016  0.101757  0.481145  0.131455 -0.719913  0.062105  0.044084\n",
       "996  0.276465  0.236015  0.285515  0.332774  0.368256  0.113498  0.168820\n",
       "997  0.275035  0.226176  0.179945  0.325228 -0.182384  0.465101  0.134615\n",
       "998  0.084103  0.013292  0.087913 -0.004762  0.097507  0.184005 -0.029466\n",
       "999  0.030540  0.189827 -0.030116  0.148477  0.092187  0.110406  0.048569\n",
       "\n",
       "[1000 rows x 7 columns]"
      ]
     },
     "execution_count": 4,
     "metadata": {},
     "output_type": "execute_result"
    }
   ],
   "source": [
    "x_T = np.array([pool.burn_and_swap(l) for pool in end_pools])\n",
    "log_ret = np.log(x_T)\n",
    "Y = pd.DataFrame(log_ret)\n",
    "Y"
   ]
  },
  {
   "cell_type": "code",
   "execution_count": 5,
   "metadata": {},
   "outputs": [
    {
     "data": {
      "text/plain": [
       "<matplotlib.legend.Legend at 0x168f4da30>"
      ]
     },
     "execution_count": 5,
     "metadata": {},
     "output_type": "execute_result"
    },
    {
     "data": {
      "image/png": "[encoded data removed]",
      "text/plain": [
       "<Figure size 432x288 with 1 Axes>"
      ]
     },
     "metadata": {},
     "output_type": "display_data"
    }
   ],
   "source": [
    "for i in range(log_ret.shape[1]):\n",
    "    sns.kdeplot(log_ret[:, i], label=i)\n",
    "    \n",
    "plt.xlim((-0.2, 0.2))\n",
    "plt.legend()"
   ]
  },
  {
   "cell_type": "markdown",
   "metadata": {},
   "source": [
    "# Optimization with riskfolio"
   ]
  },
  {
   "cell_type": "code",
   "execution_count": 6,
   "metadata": {},
   "outputs": [],
   "source": [
    "import riskfolio as rp\n",
    "import pandas as pd"
   ]
  },
  {
   "cell_type": "code",
   "execution_count": 104,
   "metadata": {},
   "outputs": [
    {
     "data": {
      "text/html": [
       "<div>\n",
       "<style scoped>\n",
       "    .dataframe tbody tr th:only-of-type {\n",
       "        vertical-align: middle;\n",
       "    }\n",
       "\n",
       "    .dataframe tbody tr th {\n",
       "        vertical-align: top;\n",
       "    }\n",
       "\n",
       "    .dataframe thead th {\n",
       "        text-align: right;\n",
       "    }\n",
       "</style>\n",
       "<table border=\"1\" class=\"dataframe\">\n",
       "  <thead>\n",
       "    <tr style=\"text-align: right;\">\n",
       "      <th></th>\n",
       "      <th>0</th>\n",
       "      <th>1</th>\n",
       "      <th>2</th>\n",
       "      <th>3</th>\n",
       "      <th>4</th>\n",
       "      <th>5</th>\n",
       "      <th>6</th>\n",
       "    </tr>\n",
       "  </thead>\n",
       "  <tbody>\n",
       "    <tr>\n",
       "      <th>weights</th>\n",
       "      <td>0.538431</td>\n",
       "      <td>0.263887</td>\n",
       "      <td>0.131116</td>\n",
       "      <td>2.494234e-11</td>\n",
       "      <td>0.066566</td>\n",
       "      <td>3.129740e-14</td>\n",
       "      <td>8.917373e-14</td>\n",
       "    </tr>\n",
       "  </tbody>\n",
       "</table>\n",
       "</div>"
      ],
      "text/plain": [
       "                0         1         2             3         4             5  \\\n",
       "weights  0.538431  0.263887  0.131116  2.494234e-11  0.066566  3.129740e-14   \n",
       "\n",
       "                    6  \n",
       "weights  8.917373e-14  "
      ]
     },
     "metadata": {},
     "output_type": "display_data"
    }
   ],
   "source": [
    "# Building the portfolio object\n",
    "port = rp.Portfolio(returns=Y)\n",
    "\n",
    "# Calculating optimal portfolio\n",
    "\n",
    "# Select method and estimate input parameters:\n",
    "\n",
    "method_mu='hist' # Method to estimate expected returns based on historical data.\n",
    "method_cov='hist' # Method to estimate covariance matrix based on historical data.\n",
    "\n",
    "port.assets_stats(method_mu=method_mu, method_cov=method_cov, d=0.94)\n",
    "\n",
    "# Estimate optimal portfolio:\n",
    "\n",
    "model='Classic' # Could be Classic (historical), BL (Black Litterman) or FM (Factor Model)\n",
    "rm = 'CVaR' # Risk measure used, this time will be variance\n",
    "obj = 'MinRisk' # Objective function, could be MinRisk, MaxRet, Utility or Sharpe\n",
    "hist = True # Use historical scenarios for risk measures that depend on scenarios\n",
    "rf = 0 # Risk free rate\n",
    "l = 0 # Risk aversion factor, only useful when obj is 'Utility'\n",
    "\n",
    "weights = port.optimization(model=model, rm=rm, obj=obj, rf=rf, l=l, hist=hist)\n",
    "\n",
    "display(weights.T)"
   ]
  },
  {
   "cell_type": "code",
   "execution_count": 105,
   "metadata": {},
   "outputs": [
    {
     "data": {
      "image/png": "[encoded data removed]",
      "text/plain": [
       "<Figure size 432x288 with 1 Axes>"
      ]
     },
     "metadata": {},
     "output_type": "display_data"
    }
   ],
   "source": [
    "portfolio_returns = log_ret @ weights\n",
    "portfolio_returns = portfolio_returns.to_numpy().T[0]\n",
    "plot_hist(portfolio_returns)"
   ]
  },
  {
   "cell_type": "markdown",
   "metadata": {},
   "source": [
    "# Optimization by hand"
   ]
  },
  {
   "cell_type": "markdown",
   "metadata": {},
   "source": [
    "1. Adjust code from `riskfolio/src/Portfolio.py`, and incorporate our constraints P(ret >= 0.5) >= 0.7\n",
    "2. Check if this constraint can be accommodated by riskfolio library"
   ]
  },
  {
   "cell_type": "code",
   "execution_count": 112,
   "metadata": {},
   "outputs": [
    {
     "name": "stdout",
     "output_type": "stream",
     "text": [
      "Objective: 117.32064694407967\n",
      "Portfolio weights:\n"
     ]
    },
    {
     "data": {
      "text/html": [
       "<div>\n",
       "<style scoped>\n",
       "    .dataframe tbody tr th:only-of-type {\n",
       "        vertical-align: middle;\n",
       "    }\n",
       "\n",
       "    .dataframe tbody tr th {\n",
       "        vertical-align: top;\n",
       "    }\n",
       "\n",
       "    .dataframe thead th {\n",
       "        text-align: right;\n",
       "    }\n",
       "</style>\n",
       "<table border=\"1\" class=\"dataframe\">\n",
       "  <thead>\n",
       "    <tr style=\"text-align: right;\">\n",
       "      <th></th>\n",
       "      <th>0</th>\n",
       "      <th>1</th>\n",
       "      <th>2</th>\n",
       "      <th>3</th>\n",
       "      <th>4</th>\n",
       "      <th>5</th>\n",
       "      <th>6</th>\n",
       "    </tr>\n",
       "  </thead>\n",
       "  <tbody>\n",
       "    <tr>\n",
       "      <th>0</th>\n",
       "      <td>0.497126</td>\n",
       "      <td>0.239083</td>\n",
       "      <td>0.117557</td>\n",
       "      <td>0.0374</td>\n",
       "      <td>0.072356</td>\n",
       "      <td>0.023185</td>\n",
       "      <td>0.013294</td>\n",
       "    </tr>\n",
       "  </tbody>\n",
       "</table>\n",
       "</div>"
      ],
      "text/plain": [
       "          0         1         2       3         4         5         6\n",
       "0  0.497126  0.239083  0.117557  0.0374  0.072356  0.023185  0.013294"
      ]
     },
     "metadata": {},
     "output_type": "display_data"
    },
    {
     "data": {
      "image/png": "[encoded data removed]",
      "text/plain": [
       "<Figure size 432x288 with 1 Axes>"
      ]
     },
     "metadata": {},
     "output_type": "display_data"
    }
   ],
   "source": [
    "# pseudocode:\n",
    "# reference file: riskfolio/src/Portfolio.py\n",
    "\n",
    "import cvxpy as cp\n",
    "import numpy as np\n",
    "\n",
    "returns = log_ret\n",
    "alpha = 0.05\n",
    "\n",
    "n_returns, n_assets = returns.shape\n",
    "\n",
    "weights = cp.Variable((n_assets, 1))\n",
    "k = cp.Variable((1, 1))\n",
    "var = cp.Variable((1, 1))\n",
    "Z1 = cp.Variable((n_returns, 1))\n",
    "\n",
    "X = returns @ weights\n",
    "cvar = var + 1 / (alpha * n_returns) * cp.sum(Z1)\n",
    "\n",
    "constraints = [Z1 * 1000 >= 0, Z1 * 1000 >= -X * 1000 - var * 1000]\n",
    "objective = cp.Minimize(cvar * 1000)\n",
    "\n",
    "log_w = cp.Variable((n_assets, 1))\n",
    "constraints += [\n",
    "    # rb.T @ cp.log(w) >= 1,\n",
    "    np.ones((1, n_assets)) @ log_w >= 1,\n",
    "    cp.ExpCone(log_w * 1000, np.ones((n_assets, 1)) * 1000, weights * 1000),\n",
    "    weights * 1000 >= 0,\n",
    "    cp.sum(weights) * 1000 == k * 1000,\n",
    "]\n",
    "\n",
    "# naive idea for the return constraint:\n",
    "# constraints += [cp.sum(returns @ weights >= 0.05) >= 0.7 * n_returns]\n",
    "\n",
    "# possible solvers: \"ECOS\", \"SCS\", \"OSQP\", \"CVXOPT\"\n",
    "prob = cp.Problem(objective, constraints)\n",
    "result = prob.solve(solver=\"SCS\")\n",
    "\n",
    "print(f\"Objective: {result}\")\n",
    "\n",
    "portfolio_weights = (weights.value / k.value).T[0]\n",
    "portfolio_returns = returns @ portfolio_weights\n",
    "\n",
    "print(\"Portfolio weights:\")\n",
    "display(pd.DataFrame(portfolio_weights).T)\n",
    "plot_hist(portfolio_returns)"
   ]
  }
 ],
 "metadata": {
  "kernelspec": {
   "display_name": "Python 3 (ipykernel)",
   "language": "python",
   "name": "python3"
  },
  "language_info": {
   "codemirror_mode": {
    "name": "ipython",
    "version": 3
   },
   "file_extension": ".py",
   "mimetype": "text/x-python",
   "name": "python",
   "nbconvert_exporter": "python",
   "pygments_lexer": "ipython3",
   "version": "3.9.13"
  }
 },
 "nbformat": 4,
 "nbformat_minor": 4
}
