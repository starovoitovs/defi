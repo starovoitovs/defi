{
 "cells": [
  {
   "cell_type": "code",
   "execution_count": 198,
   "metadata": {},
   "outputs": [],
   "source": [
    "from amm import amm\n",
    "import numpy as np\n",
    "from scipy.stats import norm\n",
    "\n",
    "import matplotlib.pyplot as plt\n",
    "# plt.style.use('paper.mplstyle')\n",
    "\n",
    "import seaborn as sns\n",
    "sns.set_theme(style=\"ticks\")\n",
    "\n",
    "import statsmodels.api as sm\n",
    "import matplotlib.ticker as mtick\n",
    "import pickle"
   ]
  },
  {
   "cell_type": "code",
   "execution_count": 203,
   "metadata": {},
   "outputs": [],
   "source": [
    "T = 60\n",
    "Rx = 100.\n",
    "Ry = 1000.\n",
    "batch_size = 1_000\n",
    "\n",
    "kappa = [0.25, 0.5, 0.5, 0.5, 0.5, 0.5, 0.5]\n",
    "sigma = [1, 0.3, 0.5, 1.5, 1.75, 2, 2.25]\n",
    "p = [0.35, 0.3, 0.34, 0.33, 0.32, 0.31, 0.3]\n",
    "phi = np.repeat(0.03, 7)"
   ]
  },
  {
   "cell_type": "code",
   "execution_count": null,
   "metadata": {},
   "outputs": [
    {
     "name": "stderr",
     "output_type": "stream",
     "text": [
      "100%|██████████████████████████████████████████████████████████████████████████████████████████████████████████████████████████████████████████████████████████████████| 1000/1000 [00:03<00:00, 304.01it/s]\n"
     ]
    }
   ],
   "source": [
    "''' Initial reserves '''\n",
    "Rx0   = np.repeat(Rx, len(kappa))\n",
    "Ry0   = np.repeat(Ry, len(kappa))\n",
    "\n",
    "pools = amm(Rx=Rx0, Ry=Ry0, phi=phi)\n",
    "\n",
    "xs_0 = np.repeat(1., len(kappa))\n",
    "l = pools.swap_and_mint(xs_0)\n",
    "end_pools, Rx_t, Ry_t, v_t, event_type_t, event_direction_t = pools.simulate(kappa, p, sigma, T=T, batch_size=batch_size)"
   ]
  },
  {
   "cell_type": "code",
   "execution_count": null,
   "metadata": {},
   "outputs": [
    {
     "data": {
      "text/html": [
       "<div>\n",
       "<style scoped>\n",
       "    .dataframe tbody tr th:only-of-type {\n",
       "        vertical-align: middle;\n",
       "    }\n",
       "\n",
       "    .dataframe tbody tr th {\n",
       "        vertical-align: top;\n",
       "    }\n",
       "\n",
       "    .dataframe thead th {\n",
       "        text-align: right;\n",
       "    }\n",
       "</style>\n",
       "<table border=\"1\" class=\"dataframe\">\n",
       "  <thead>\n",
       "    <tr style=\"text-align: right;\">\n",
       "      <th></th>\n",
       "      <th>0</th>\n",
       "      <th>1</th>\n",
       "      <th>2</th>\n",
       "      <th>3</th>\n",
       "      <th>4</th>\n",
       "      <th>5</th>\n",
       "      <th>6</th>\n",
       "    </tr>\n",
       "  </thead>\n",
       "  <tbody>\n",
       "    <tr>\n",
       "      <th>0</th>\n",
       "      <td>0.119733</td>\n",
       "      <td>0.085552</td>\n",
       "      <td>0.153972</td>\n",
       "      <td>-0.044518</td>\n",
       "      <td>1.991362</td>\n",
       "      <td>-0.095006</td>\n",
       "      <td>0.032564</td>\n",
       "    </tr>\n",
       "    <tr>\n",
       "      <th>1</th>\n",
       "      <td>-0.018704</td>\n",
       "      <td>-0.093006</td>\n",
       "      <td>0.045084</td>\n",
       "      <td>-0.295211</td>\n",
       "      <td>-0.144976</td>\n",
       "      <td>-0.125766</td>\n",
       "      <td>-0.184205</td>\n",
       "    </tr>\n",
       "    <tr>\n",
       "      <th>2</th>\n",
       "      <td>0.171639</td>\n",
       "      <td>0.108575</td>\n",
       "      <td>-0.112979</td>\n",
       "      <td>0.097815</td>\n",
       "      <td>0.002596</td>\n",
       "      <td>0.059422</td>\n",
       "      <td>0.035852</td>\n",
       "    </tr>\n",
       "    <tr>\n",
       "      <th>3</th>\n",
       "      <td>0.112579</td>\n",
       "      <td>0.088779</td>\n",
       "      <td>-0.018894</td>\n",
       "      <td>-0.018868</td>\n",
       "      <td>0.249881</td>\n",
       "      <td>0.270709</td>\n",
       "      <td>0.017335</td>\n",
       "    </tr>\n",
       "    <tr>\n",
       "      <th>4</th>\n",
       "      <td>0.163196</td>\n",
       "      <td>0.229911</td>\n",
       "      <td>0.277760</td>\n",
       "      <td>0.091112</td>\n",
       "      <td>0.176856</td>\n",
       "      <td>0.078718</td>\n",
       "      <td>0.067310</td>\n",
       "    </tr>\n",
       "    <tr>\n",
       "      <th>...</th>\n",
       "      <td>...</td>\n",
       "      <td>...</td>\n",
       "      <td>...</td>\n",
       "      <td>...</td>\n",
       "      <td>...</td>\n",
       "      <td>...</td>\n",
       "      <td>...</td>\n",
       "    </tr>\n",
       "    <tr>\n",
       "      <th>995</th>\n",
       "      <td>0.140194</td>\n",
       "      <td>0.200951</td>\n",
       "      <td>0.037311</td>\n",
       "      <td>0.067753</td>\n",
       "      <td>0.274753</td>\n",
       "      <td>0.162235</td>\n",
       "      <td>0.058299</td>\n",
       "    </tr>\n",
       "    <tr>\n",
       "      <th>996</th>\n",
       "      <td>0.085750</td>\n",
       "      <td>0.080658</td>\n",
       "      <td>0.346661</td>\n",
       "      <td>0.268842</td>\n",
       "      <td>0.079447</td>\n",
       "      <td>0.160434</td>\n",
       "      <td>0.004494</td>\n",
       "    </tr>\n",
       "    <tr>\n",
       "      <th>997</th>\n",
       "      <td>-0.048566</td>\n",
       "      <td>0.093751</td>\n",
       "      <td>0.072652</td>\n",
       "      <td>0.150976</td>\n",
       "      <td>0.166943</td>\n",
       "      <td>0.176527</td>\n",
       "      <td>0.006439</td>\n",
       "    </tr>\n",
       "    <tr>\n",
       "      <th>998</th>\n",
       "      <td>0.106213</td>\n",
       "      <td>0.092526</td>\n",
       "      <td>0.013257</td>\n",
       "      <td>0.020546</td>\n",
       "      <td>0.191638</td>\n",
       "      <td>0.171798</td>\n",
       "      <td>0.022248</td>\n",
       "    </tr>\n",
       "    <tr>\n",
       "      <th>999</th>\n",
       "      <td>0.184780</td>\n",
       "      <td>0.087208</td>\n",
       "      <td>0.185277</td>\n",
       "      <td>0.167734</td>\n",
       "      <td>0.026093</td>\n",
       "      <td>0.032211</td>\n",
       "      <td>-0.000897</td>\n",
       "    </tr>\n",
       "  </tbody>\n",
       "</table>\n",
       "<p>1000 rows × 7 columns</p>\n",
       "</div>"
      ],
      "text/plain": [
       "            0         1         2         3         4         5         6\n",
       "0    0.119733  0.085552  0.153972 -0.044518  1.991362 -0.095006  0.032564\n",
       "1   -0.018704 -0.093006  0.045084 -0.295211 -0.144976 -0.125766 -0.184205\n",
       "2    0.171639  0.108575 -0.112979  0.097815  0.002596  0.059422  0.035852\n",
       "3    0.112579  0.088779 -0.018894 -0.018868  0.249881  0.270709  0.017335\n",
       "4    0.163196  0.229911  0.277760  0.091112  0.176856  0.078718  0.067310\n",
       "..        ...       ...       ...       ...       ...       ...       ...\n",
       "995  0.140194  0.200951  0.037311  0.067753  0.274753  0.162235  0.058299\n",
       "996  0.085750  0.080658  0.346661  0.268842  0.079447  0.160434  0.004494\n",
       "997 -0.048566  0.093751  0.072652  0.150976  0.166943  0.176527  0.006439\n",
       "998  0.106213  0.092526  0.013257  0.020546  0.191638  0.171798  0.022248\n",
       "999  0.184780  0.087208  0.185277  0.167734  0.026093  0.032211 -0.000897\n",
       "\n",
       "[1000 rows x 7 columns]"
      ]
     },
     "execution_count": 207,
     "metadata": {},
     "output_type": "execute_result"
    }
   ],
   "source": [
    "x_T = np.array([pool.burn_and_swap(l) for pool in end_pools])\n",
    "log_ret = np.log(x_T)\n",
    "Y = pd.DataFrame(log_ret)\n",
    "Y"
   ]
  },
  {
   "cell_type": "code",
   "execution_count": null,
   "metadata": {},
   "outputs": [
    {
     "data": {
      "text/plain": [
       "<matplotlib.legend.Legend at 0x2a6a2de50>"
      ]
     },
     "execution_count": 208,
     "metadata": {},
     "output_type": "execute_result"
    },
    {
     "data": {
      "image/png": "[encoded data removed]",
      "text/plain": [
       "<Figure size 432x288 with 1 Axes>"
      ]
     },
     "metadata": {},
     "output_type": "display_data"
    }
   ],
   "source": [
    "for i in range(log_ret.shape[1]):\n",
    "    sns.kdeplot(log_ret[:, i], label=i)\n",
    "    \n",
    "plt.xlim((-0.2, 0.2))\n",
    "plt.legend()"
   ]
  },
  {
   "cell_type": "markdown",
   "metadata": {},
   "source": [
    "# Portfolio optimization"
   ]
  },
  {
   "cell_type": "code",
   "execution_count": 209,
   "metadata": {},
   "outputs": [],
   "source": [
    "import riskfolio as rp\n",
    "import pandas as pd"
   ]
  },
  {
   "cell_type": "code",
   "execution_count": 212,
   "metadata": {},
   "outputs": [
    {
     "data": {
      "text/html": [
       "<div>\n",
       "<style scoped>\n",
       "    .dataframe tbody tr th:only-of-type {\n",
       "        vertical-align: middle;\n",
       "    }\n",
       "\n",
       "    .dataframe tbody tr th {\n",
       "        vertical-align: top;\n",
       "    }\n",
       "\n",
       "    .dataframe thead th {\n",
       "        text-align: right;\n",
       "    }\n",
       "</style>\n",
       "<table border=\"1\" class=\"dataframe\">\n",
       "  <thead>\n",
       "    <tr style=\"text-align: right;\">\n",
       "      <th></th>\n",
       "      <th>0</th>\n",
       "      <th>1</th>\n",
       "      <th>2</th>\n",
       "      <th>3</th>\n",
       "      <th>4</th>\n",
       "      <th>5</th>\n",
       "      <th>6</th>\n",
       "    </tr>\n",
       "  </thead>\n",
       "  <tbody>\n",
       "    <tr>\n",
       "      <th>weights</th>\n",
       "      <td>0.664348</td>\n",
       "      <td>0.247657</td>\n",
       "      <td>0.025793</td>\n",
       "      <td>0.00741</td>\n",
       "      <td>0.053364</td>\n",
       "      <td>0.001429</td>\n",
       "      <td>7.830477e-14</td>\n",
       "    </tr>\n",
       "  </tbody>\n",
       "</table>\n",
       "</div>"
      ],
      "text/plain": [
       "                0         1         2        3         4         5  \\\n",
       "weights  0.664348  0.247657  0.025793  0.00741  0.053364  0.001429   \n",
       "\n",
       "                    6  \n",
       "weights  7.830477e-14  "
      ]
     },
     "metadata": {},
     "output_type": "display_data"
    }
   ],
   "source": [
    "# Building the portfolio object\n",
    "port = rp.Portfolio(returns=Y)\n",
    "\n",
    "# Calculating optimal portfolio\n",
    "\n",
    "# Select method and estimate input parameters:\n",
    "\n",
    "method_mu='hist' # Method to estimate expected returns based on historical data.\n",
    "method_cov='hist' # Method to estimate covariance matrix based on historical data.\n",
    "\n",
    "port.assets_stats(method_mu=method_mu, method_cov=method_cov, d=0.94)\n",
    "\n",
    "# Estimate optimal portfolio:\n",
    "\n",
    "model='Classic' # Could be Classic (historical), BL (Black Litterman) or FM (Factor Model)\n",
    "rm = 'CVaR' # Risk measure used, this time will be variance\n",
    "obj = 'MinRisk' # Objective function, could be MinRisk, MaxRet, Utility or Sharpe\n",
    "hist = True # Use historical scenarios for risk measures that depend on scenarios\n",
    "rf = 0 # Risk free rate\n",
    "l = 0 # Risk aversion factor, only useful when obj is 'Utility'\n",
    "\n",
    "w = port.optimization(model=model, rm=rm, obj=obj, rf=rf, l=l, hist=hist)\n",
    "\n",
    "display(w.T)"
   ]
  },
  {
   "cell_type": "code",
   "execution_count": 173,
   "metadata": {},
   "outputs": [
    {
     "data": {
      "text/plain": [
       "<AxesSubplot:ylabel='Density'>"
      ]
     },
     "execution_count": 173,
     "metadata": {},
     "output_type": "execute_result"
    },
    {
     "data": {
      "image/png": "[encoded data removed]",
      "text/plain": [
       "<Figure size 432x288 with 1 Axes>"
      ]
     },
     "metadata": {},
     "output_type": "display_data"
    }
   ],
   "source": [
    "portfolio_returns = log_ret @ w\n",
    "sns.kdeplot(portfolio_returns.to_numpy().T[0])"
   ]
  },
  {
   "cell_type": "markdown",
   "metadata": {},
   "source": [
    "# Optimization by hand"
   ]
  },
  {
   "cell_type": "markdown",
   "metadata": {},
   "source": [
    "1. Adjust code from `riskfolio/src/Portfolio.py`, and incorporate our constraints P(ret >= 0.5) >= 0.7\n",
    "2. Check if this constraint can be accommodated by riskfolio library"
   ]
  },
  {
   "cell_type": "code",
   "execution_count": null,
   "metadata": {},
   "outputs": [],
   "source": [
    "# pseudocode:\n",
    "# reference file: riskfolio/src/Portfolio.py\n",
    "\n",
    "import cvxpy as cp\n",
    "import numpy as np\n",
    "\n",
    "SOLVERS = [\"ECOS\", \"SCS\", \"OSQP\", \"CVXOPT\"]\n",
    "\n",
    "returns = log_ret\n",
    "alpha = 0.05\n",
    "\n",
    "n_returns, n_assets = returns.shape\n",
    "\n",
    "weights = cp.Variable((n_assets, 1))\n",
    "var = cp.Variable((1, 1))\n",
    "Z1 = cp.Variable((n_returns, 1))\n",
    "\n",
    "X = returns @ weights\n",
    "cvar = var + 1 / (alpha * n_returns) * cp.sum(Z1)\n",
    "\n",
    "constraints = [Z1 * 1000 >= 0, Z1 * 1000 >= -X * 1000 - var * 1000]\n",
    "objective = cp.Minimize(cvar * 1000)\n",
    "\n",
    "# naive idea:\n",
    "# constraints += [np.mean(returns @ weights >= 0.05)[0] - 0.7 >= 0]\n",
    "\n",
    "results = []\n",
    "\n",
    "prob = cp.Problem(objective, constraints)\n",
    "for solver in SOLVERS:\n",
    "    prob.solve(solver=solver)\n",
    "    results += [np.array(weights.value)]"
   ]
  }
 ],
 "metadata": {
  "kernelspec": {
   "display_name": "Python 3 (ipykernel)",
   "language": "python",
   "name": "python3"
  },
  "language_info": {
   "codemirror_mode": {
    "name": "ipython",
    "version": 3
   },
   "file_extension": ".py",
   "mimetype": "text/x-python",
   "name": "python",
   "nbconvert_exporter": "python",
   "pygments_lexer": "ipython3",
   "version": "3.9.13"
  }
 },
 "nbformat": 4,
 "nbformat_minor": 4
}
