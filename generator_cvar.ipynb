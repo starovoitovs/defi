{
 "cells": [
  {
   "cell_type": "code",
   "execution_count": 24,
   "metadata": {},
   "outputs": [],
   "source": [
    "from amm import amm\n",
    "import numpy as np\n",
    "from scipy.stats import norm\n",
    "\n",
    "import matplotlib.pyplot as plt\n",
    "# plt.style.use('paper.mplstyle')\n",
    "\n",
    "import seaborn as sns\n",
    "sns.set_theme(style=\"ticks\")\n",
    "\n",
    "import statsmodels.api as sm\n",
    "import matplotlib.ticker as mtick\n",
    "import pickle"
   ]
  },
  {
   "cell_type": "code",
   "execution_count": 123,
   "metadata": {},
   "outputs": [],
   "source": [
    "T = 120\n",
    "Rx = 1000.\n",
    "Ry = 1000.\n",
    "batch_size = 1_000\n",
    "\n",
    "kappa = [0.25, 0.5, 0.5, 0.5, 0.5, 0.5, 0.5]\n",
    "sigma = [1, 0.3, 0.5, 1.5, 1.75, 2, 2.25]\n",
    "p = [0.35, 0.3, 0.34, 0.33, 0.32, 0.31, 0.3]\n",
    "phi = np.array([0.01, 0.01, 0.01, 0.01, 0.01, 0.01, 0.01])"
   ]
  },
  {
   "cell_type": "code",
   "execution_count": 124,
   "metadata": {},
   "outputs": [
    {
     "name": "stderr",
     "output_type": "stream",
     "text": [
      "100%|██████████████████████████████████████████████████████████████████████████████████████████████████████████████████████████████████████████████████████████████████| 1000/1000 [00:06<00:00, 156.61it/s]\n"
     ]
    }
   ],
   "source": [
    "''' Initial reserves '''\n",
    "Rx0   = np.repeat(Rx, len(kappa))\n",
    "Ry0   = np.repeat(Ry, len(kappa))\n",
    "\n",
    "pools = amm(Rx=Rx0, Ry=Ry0, phi=phi)\n",
    "\n",
    "xs_0 = np.repeat(1., len(kappa))\n",
    "l = pools.swap_and_mint(xs_0)\n",
    "end_pools, Rx_t, Ry_t, v_t, event_type_t, event_direction_t = pools.simulate(kappa, p, sigma, T=T, batch_size=batch_size)"
   ]
  },
  {
   "cell_type": "code",
   "execution_count": 125,
   "metadata": {},
   "outputs": [
    {
     "data": {
      "text/html": [
       "<div>\n",
       "<style scoped>\n",
       "    .dataframe tbody tr th:only-of-type {\n",
       "        vertical-align: middle;\n",
       "    }\n",
       "\n",
       "    .dataframe tbody tr th {\n",
       "        vertical-align: top;\n",
       "    }\n",
       "\n",
       "    .dataframe thead th {\n",
       "        text-align: right;\n",
       "    }\n",
       "</style>\n",
       "<table border=\"1\" class=\"dataframe\">\n",
       "  <thead>\n",
       "    <tr style=\"text-align: right;\">\n",
       "      <th></th>\n",
       "      <th>0</th>\n",
       "      <th>1</th>\n",
       "      <th>2</th>\n",
       "      <th>3</th>\n",
       "      <th>4</th>\n",
       "      <th>5</th>\n",
       "      <th>6</th>\n",
       "    </tr>\n",
       "  </thead>\n",
       "  <tbody>\n",
       "    <tr>\n",
       "      <th>0</th>\n",
       "      <td>0.018077</td>\n",
       "      <td>0.022194</td>\n",
       "      <td>0.011539</td>\n",
       "      <td>0.007316</td>\n",
       "      <td>0.023677</td>\n",
       "      <td>0.027484</td>\n",
       "      <td>-0.003502</td>\n",
       "    </tr>\n",
       "    <tr>\n",
       "      <th>1</th>\n",
       "      <td>0.028788</td>\n",
       "      <td>0.030008</td>\n",
       "      <td>0.016427</td>\n",
       "      <td>0.027015</td>\n",
       "      <td>0.048862</td>\n",
       "      <td>0.001610</td>\n",
       "      <td>0.003242</td>\n",
       "    </tr>\n",
       "    <tr>\n",
       "      <th>2</th>\n",
       "      <td>0.015837</td>\n",
       "      <td>0.017079</td>\n",
       "      <td>0.026886</td>\n",
       "      <td>0.061990</td>\n",
       "      <td>0.027113</td>\n",
       "      <td>0.011217</td>\n",
       "      <td>0.004130</td>\n",
       "    </tr>\n",
       "    <tr>\n",
       "      <th>3</th>\n",
       "      <td>0.023989</td>\n",
       "      <td>-0.010880</td>\n",
       "      <td>0.005940</td>\n",
       "      <td>0.022657</td>\n",
       "      <td>0.007748</td>\n",
       "      <td>0.014403</td>\n",
       "      <td>-0.011662</td>\n",
       "    </tr>\n",
       "    <tr>\n",
       "      <th>4</th>\n",
       "      <td>0.029360</td>\n",
       "      <td>0.019175</td>\n",
       "      <td>0.017175</td>\n",
       "      <td>0.041803</td>\n",
       "      <td>0.021176</td>\n",
       "      <td>0.009160</td>\n",
       "      <td>0.002713</td>\n",
       "    </tr>\n",
       "    <tr>\n",
       "      <th>...</th>\n",
       "      <td>...</td>\n",
       "      <td>...</td>\n",
       "      <td>...</td>\n",
       "      <td>...</td>\n",
       "      <td>...</td>\n",
       "      <td>...</td>\n",
       "      <td>...</td>\n",
       "    </tr>\n",
       "    <tr>\n",
       "      <th>995</th>\n",
       "      <td>0.030063</td>\n",
       "      <td>0.014410</td>\n",
       "      <td>0.010613</td>\n",
       "      <td>-0.002230</td>\n",
       "      <td>0.023467</td>\n",
       "      <td>0.018126</td>\n",
       "      <td>0.002927</td>\n",
       "    </tr>\n",
       "    <tr>\n",
       "      <th>996</th>\n",
       "      <td>0.034259</td>\n",
       "      <td>0.007543</td>\n",
       "      <td>0.021781</td>\n",
       "      <td>0.030973</td>\n",
       "      <td>0.004611</td>\n",
       "      <td>-0.024948</td>\n",
       "      <td>0.004999</td>\n",
       "    </tr>\n",
       "    <tr>\n",
       "      <th>997</th>\n",
       "      <td>0.025112</td>\n",
       "      <td>0.020160</td>\n",
       "      <td>0.014470</td>\n",
       "      <td>0.036886</td>\n",
       "      <td>0.017973</td>\n",
       "      <td>0.465661</td>\n",
       "      <td>-0.006705</td>\n",
       "    </tr>\n",
       "    <tr>\n",
       "      <th>998</th>\n",
       "      <td>0.030705</td>\n",
       "      <td>0.035431</td>\n",
       "      <td>0.028534</td>\n",
       "      <td>0.096831</td>\n",
       "      <td>0.049678</td>\n",
       "      <td>0.553621</td>\n",
       "      <td>0.006677</td>\n",
       "    </tr>\n",
       "    <tr>\n",
       "      <th>999</th>\n",
       "      <td>0.029591</td>\n",
       "      <td>0.020744</td>\n",
       "      <td>0.034881</td>\n",
       "      <td>-0.036375</td>\n",
       "      <td>0.070177</td>\n",
       "      <td>0.028094</td>\n",
       "      <td>0.008869</td>\n",
       "    </tr>\n",
       "  </tbody>\n",
       "</table>\n",
       "<p>1000 rows × 7 columns</p>\n",
       "</div>"
      ],
      "text/plain": [
       "            0         1         2         3         4         5         6\n",
       "0    0.018077  0.022194  0.011539  0.007316  0.023677  0.027484 -0.003502\n",
       "1    0.028788  0.030008  0.016427  0.027015  0.048862  0.001610  0.003242\n",
       "2    0.015837  0.017079  0.026886  0.061990  0.027113  0.011217  0.004130\n",
       "3    0.023989 -0.010880  0.005940  0.022657  0.007748  0.014403 -0.011662\n",
       "4    0.029360  0.019175  0.017175  0.041803  0.021176  0.009160  0.002713\n",
       "..        ...       ...       ...       ...       ...       ...       ...\n",
       "995  0.030063  0.014410  0.010613 -0.002230  0.023467  0.018126  0.002927\n",
       "996  0.034259  0.007543  0.021781  0.030973  0.004611 -0.024948  0.004999\n",
       "997  0.025112  0.020160  0.014470  0.036886  0.017973  0.465661 -0.006705\n",
       "998  0.030705  0.035431  0.028534  0.096831  0.049678  0.553621  0.006677\n",
       "999  0.029591  0.020744  0.034881 -0.036375  0.070177  0.028094  0.008869\n",
       "\n",
       "[1000 rows x 7 columns]"
      ]
     },
     "execution_count": 125,
     "metadata": {},
     "output_type": "execute_result"
    }
   ],
   "source": [
    "x_T = np.array([pool.burn_and_swap(l) for pool in end_pools])\n",
    "log_ret = np.log(x_T)\n",
    "Y = pd.DataFrame(log_ret)\n",
    "Y"
   ]
  },
  {
   "cell_type": "code",
   "execution_count": 126,
   "metadata": {},
   "outputs": [
    {
     "data": {
      "text/plain": [
       "(-0.1, 0.1)"
      ]
     },
     "execution_count": 126,
     "metadata": {},
     "output_type": "execute_result"
    },
    {
     "data": {
      "image/png": "[encoded data removed]",
      "text/plain": [
       "<Figure size 432x288 with 1 Axes>"
      ]
     },
     "metadata": {},
     "output_type": "display_data"
    }
   ],
   "source": [
    "for i in range(log_ret.shape[1]):\n",
    "    sns.kdeplot(log_ret[:, i])\n",
    "    \n",
    "plt.xlim((-0.1, 0.1))"
   ]
  },
  {
   "cell_type": "markdown",
   "metadata": {},
   "source": [
    "# Portfolio optimization"
   ]
  },
  {
   "cell_type": "code",
   "execution_count": 127,
   "metadata": {},
   "outputs": [],
   "source": [
    "import riskfolio as rp\n",
    "import pandas as pd"
   ]
  },
  {
   "cell_type": "code",
   "execution_count": 136,
   "metadata": {},
   "outputs": [
    {
     "data": {
      "text/html": [
       "<div>\n",
       "<style scoped>\n",
       "    .dataframe tbody tr th:only-of-type {\n",
       "        vertical-align: middle;\n",
       "    }\n",
       "\n",
       "    .dataframe tbody tr th {\n",
       "        vertical-align: top;\n",
       "    }\n",
       "\n",
       "    .dataframe thead th {\n",
       "        text-align: right;\n",
       "    }\n",
       "</style>\n",
       "<table border=\"1\" class=\"dataframe\">\n",
       "  <thead>\n",
       "    <tr style=\"text-align: right;\">\n",
       "      <th></th>\n",
       "      <th>0</th>\n",
       "      <th>1</th>\n",
       "      <th>2</th>\n",
       "      <th>3</th>\n",
       "      <th>4</th>\n",
       "      <th>5</th>\n",
       "      <th>6</th>\n",
       "    </tr>\n",
       "  </thead>\n",
       "  <tbody>\n",
       "    <tr>\n",
       "      <th>weights</th>\n",
       "      <td>0.669463</td>\n",
       "      <td>0.224431</td>\n",
       "      <td>0.036633</td>\n",
       "      <td>0.064455</td>\n",
       "      <td>1.103611e-15</td>\n",
       "      <td>0.005018</td>\n",
       "      <td>1.093178e-17</td>\n",
       "    </tr>\n",
       "  </tbody>\n",
       "</table>\n",
       "</div>"
      ],
      "text/plain": [
       "                0         1         2         3             4         5  \\\n",
       "weights  0.669463  0.224431  0.036633  0.064455  1.103611e-15  0.005018   \n",
       "\n",
       "                    6  \n",
       "weights  1.093178e-17  "
      ]
     },
     "metadata": {},
     "output_type": "display_data"
    }
   ],
   "source": [
    "import riskfolio as rp\n",
    "\n",
    "# Building the portfolio object\n",
    "port = rp.Portfolio(returns=Y)\n",
    "\n",
    "# Calculating optimal portfolio\n",
    "\n",
    "# Select method and estimate input parameters:\n",
    "\n",
    "method_mu='hist' # Method to estimate expected returns based on historical data.\n",
    "method_cov='hist' # Method to estimate covariance matrix based on historical data.\n",
    "\n",
    "port.assets_stats(method_mu=method_mu, method_cov=method_cov, d=0.94)\n",
    "\n",
    "# Estimate optimal portfolio:\n",
    "\n",
    "model='Classic' # Could be Classic (historical), BL (Black Litterman) or FM (Factor Model)\n",
    "rm = 'CVaR' # Risk measure used, this time will be variance\n",
    "obj = 'MinRisk' # Objective function, could be MinRisk, MaxRet, Utility or Sharpe\n",
    "hist = True # Use historical scenarios for risk measures that depend on scenarios\n",
    "rf = 0 # Risk free rate\n",
    "l = 0 # Risk aversion factor, only useful when obj is 'Utility'\n",
    "\n",
    "w = port.optimization(model=model, rm=rm, obj=obj, rf=rf, l=l, hist=hist)\n",
    "\n",
    "display(w.T)"
   ]
  }
 ],
 "metadata": {
  "kernelspec": {
   "display_name": "Python 3 (ipykernel)",
   "language": "python",
   "name": "python3"
  },
  "language_info": {
   "codemirror_mode": {
    "name": "ipython",
    "version": 3
   },
   "file_extension": ".py",
   "mimetype": "text/x-python",
   "name": "python",
   "nbconvert_exporter": "python",
   "pygments_lexer": "ipython3",
   "version": "3.9.13"
  }
 },
 "nbformat": 4,
 "nbformat_minor": 4
}
