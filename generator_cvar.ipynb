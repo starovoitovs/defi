{
 "cells": [
  {
   "cell_type": "code",
   "execution_count": 1,
   "metadata": {},
   "outputs": [],
   "source": [
    "from amm import amm\n",
    "import numpy as np\n",
    "from scipy.stats import norm\n",
    "\n",
    "import matplotlib.pyplot as plt\n",
    "# plt.style.use('paper.mplstyle')\n",
    "\n",
    "import seaborn as sns\n",
    "sns.set_theme(style=\"ticks\")\n",
    "\n",
    "import statsmodels.api as sm\n",
    "import matplotlib.ticker as mtick\n",
    "import pickle"
   ]
  },
  {
   "cell_type": "code",
   "execution_count": 2,
   "metadata": {},
   "outputs": [],
   "source": [
    "T = 120\n",
    "Rx = 1000.\n",
    "Ry = 1000.\n",
    "batch_size = 100\n",
    "\n",
    "kappa = np.array([0.2, 1., 5.])\n",
    "sigma = np.array([0.2, 0.5, 1.])\n",
    "p = np.array([0.2, 0.5, 0.8])\n",
    "phi = np.array([0.01, 0.01, 0.01])"
   ]
  },
  {
   "cell_type": "code",
   "execution_count": 3,
   "metadata": {},
   "outputs": [
    {
     "name": "stderr",
     "output_type": "stream",
     "text": [
      "100%|██████████| 100/100 [00:03<00:00, 30.31it/s]\n"
     ]
    }
   ],
   "source": [
    "''' Initial reserves '''\n",
    "Rx0   = np.repeat(Rx, len(kappa))\n",
    "Ry0   = np.repeat(Ry, len(kappa))\n",
    "\n",
    "pools = amm(Rx=Rx0, Ry=Ry0, phi=phi)\n",
    "\n",
    "xs_0 = np.repeat(1., len(kappa))\n",
    "l = pools.swap_and_mint(xs_0)\n",
    "end_pools, Rx_t, Ry_t, v_t, event_type_t, event_direction_t = pools.simulate(kappa, p, sigma, T=T, batch_size=batch_size)\n",
    "\n",
    "\"\"\" Burn and swap all coins into x \"\"\"\n",
    "x_T = np.zeros(batch_size)\n",
    "for k in range(batch_size):\n",
    "    x_T[k] = np.sum(end_pools[k].burn_and_swap(l))\n",
    "\n",
    "x_0      = np.sum(xs_0)\n",
    "log_ret  = np.log(x_T) - np.log(x_0) # performance / log return"
   ]
  },
  {
   "cell_type": "code",
   "execution_count": 4,
   "metadata": {},
   "outputs": [],
   "source": [
    "log_ret = np.log(np.array([pool.Rx / pool.Ry for pool in end_pools]))"
   ]
  },
  {
   "cell_type": "markdown",
   "metadata": {},
   "source": [
    "# Portfolio optimization"
   ]
  }
 ],
 "metadata": {
  "kernelspec": {
   "display_name": "Python 3",
   "language": "python",
   "name": "python3"
  },
  "language_info": {
   "codemirror_mode": {
    "name": "ipython",
    "version": 3
   },
   "file_extension": ".py",
   "mimetype": "text/x-python",
   "name": "python",
   "nbconvert_exporter": "python",
   "pygments_lexer": "ipython3",
   "version": "3.6.15"
  }
 },
 "nbformat": 4,
 "nbformat_minor": 4
}
