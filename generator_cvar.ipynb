{
 "cells": [
  {
   "cell_type": "code",
   "execution_count": 24,
   "metadata": {},
   "outputs": [],
   "source": [
    "from amm import amm\n",
    "import numpy as np\n",
    "from scipy.stats import norm\n",
    "\n",
    "import matplotlib.pyplot as plt\n",
    "# plt.style.use('paper.mplstyle')\n",
    "\n",
    "import seaborn as sns\n",
    "sns.set_theme(style=\"ticks\")\n",
    "\n",
    "import statsmodels.api as sm\n",
    "import matplotlib.ticker as mtick\n",
    "import pickle"
   ]
  },
  {
   "cell_type": "code",
   "execution_count": 150,
   "metadata": {},
   "outputs": [],
   "source": [
    "T = 60\n",
    "Rx = 100.\n",
    "Ry = 1000.\n",
    "batch_size = 1_000\n",
    "\n",
    "kappa = [0.25, 0.5, 0.5, 0.5, 0.5, 0.5, 0.5]\n",
    "sigma = [1, 0.3, 0.5, 1.5, 1.75, 2, 2.25]\n",
    "p = [0.35, 0.3, 0.34, 0.33, 0.32, 0.31, 0.3]\n",
    "phi = np.array([0.03, 0.03, 0.03, 0.03, 0.03, 0.03, 0.03])"
   ]
  },
  {
   "cell_type": "code",
   "execution_count": 151,
   "metadata": {},
   "outputs": [
    {
     "name": "stderr",
     "output_type": "stream",
     "text": [
      "100%|██████████████████████████████████████████████████████████████████████████████████████████████████████████████████████████████████████████████████████████████████| 1000/1000 [00:03<00:00, 309.56it/s]\n"
     ]
    }
   ],
   "source": [
    "''' Initial reserves '''\n",
    "Rx0   = np.repeat(Rx, len(kappa))\n",
    "Ry0   = np.repeat(Ry, len(kappa))\n",
    "\n",
    "pools = amm(Rx=Rx0, Ry=Ry0, phi=phi)\n",
    "\n",
    "xs_0 = np.repeat(1., len(kappa))\n",
    "l = pools.swap_and_mint(xs_0)\n",
    "end_pools, Rx_t, Ry_t, v_t, event_type_t, event_direction_t = pools.simulate(kappa, p, sigma, T=T, batch_size=batch_size)"
   ]
  },
  {
   "cell_type": "code",
   "execution_count": 152,
   "metadata": {},
   "outputs": [
    {
     "data": {
      "text/html": [
       "<div>\n",
       "<style scoped>\n",
       "    .dataframe tbody tr th:only-of-type {\n",
       "        vertical-align: middle;\n",
       "    }\n",
       "\n",
       "    .dataframe tbody tr th {\n",
       "        vertical-align: top;\n",
       "    }\n",
       "\n",
       "    .dataframe thead th {\n",
       "        text-align: right;\n",
       "    }\n",
       "</style>\n",
       "<table border=\"1\" class=\"dataframe\">\n",
       "  <thead>\n",
       "    <tr style=\"text-align: right;\">\n",
       "      <th></th>\n",
       "      <th>0</th>\n",
       "      <th>1</th>\n",
       "      <th>2</th>\n",
       "      <th>3</th>\n",
       "      <th>4</th>\n",
       "      <th>5</th>\n",
       "      <th>6</th>\n",
       "    </tr>\n",
       "  </thead>\n",
       "  <tbody>\n",
       "    <tr>\n",
       "      <th>0</th>\n",
       "      <td>0.160542</td>\n",
       "      <td>0.056404</td>\n",
       "      <td>0.242278</td>\n",
       "      <td>0.072361</td>\n",
       "      <td>0.076491</td>\n",
       "      <td>0.343009</td>\n",
       "      <td>-0.009291</td>\n",
       "    </tr>\n",
       "    <tr>\n",
       "      <th>1</th>\n",
       "      <td>0.167887</td>\n",
       "      <td>0.058166</td>\n",
       "      <td>0.627765</td>\n",
       "      <td>0.035338</td>\n",
       "      <td>0.018291</td>\n",
       "      <td>0.135556</td>\n",
       "      <td>0.015490</td>\n",
       "    </tr>\n",
       "    <tr>\n",
       "      <th>2</th>\n",
       "      <td>0.119652</td>\n",
       "      <td>-0.023229</td>\n",
       "      <td>0.020969</td>\n",
       "      <td>-0.061471</td>\n",
       "      <td>0.008222</td>\n",
       "      <td>-0.084056</td>\n",
       "      <td>-0.094814</td>\n",
       "    </tr>\n",
       "    <tr>\n",
       "      <th>3</th>\n",
       "      <td>0.114707</td>\n",
       "      <td>0.075219</td>\n",
       "      <td>0.322061</td>\n",
       "      <td>0.014805</td>\n",
       "      <td>0.000372</td>\n",
       "      <td>0.052629</td>\n",
       "      <td>-0.044421</td>\n",
       "    </tr>\n",
       "    <tr>\n",
       "      <th>4</th>\n",
       "      <td>0.185891</td>\n",
       "      <td>0.077953</td>\n",
       "      <td>0.051646</td>\n",
       "      <td>0.421408</td>\n",
       "      <td>0.101421</td>\n",
       "      <td>0.169106</td>\n",
       "      <td>0.064178</td>\n",
       "    </tr>\n",
       "    <tr>\n",
       "      <th>...</th>\n",
       "      <td>...</td>\n",
       "      <td>...</td>\n",
       "      <td>...</td>\n",
       "      <td>...</td>\n",
       "      <td>...</td>\n",
       "      <td>...</td>\n",
       "      <td>...</td>\n",
       "    </tr>\n",
       "    <tr>\n",
       "      <th>995</th>\n",
       "      <td>0.198295</td>\n",
       "      <td>0.124590</td>\n",
       "      <td>0.122981</td>\n",
       "      <td>0.062572</td>\n",
       "      <td>0.166792</td>\n",
       "      <td>0.092676</td>\n",
       "      <td>0.087451</td>\n",
       "    </tr>\n",
       "    <tr>\n",
       "      <th>996</th>\n",
       "      <td>0.123134</td>\n",
       "      <td>0.157537</td>\n",
       "      <td>0.103651</td>\n",
       "      <td>0.235614</td>\n",
       "      <td>0.164821</td>\n",
       "      <td>0.249644</td>\n",
       "      <td>0.062077</td>\n",
       "    </tr>\n",
       "    <tr>\n",
       "      <th>997</th>\n",
       "      <td>0.072198</td>\n",
       "      <td>0.130771</td>\n",
       "      <td>0.212893</td>\n",
       "      <td>0.014142</td>\n",
       "      <td>0.112474</td>\n",
       "      <td>0.066137</td>\n",
       "      <td>0.001815</td>\n",
       "    </tr>\n",
       "    <tr>\n",
       "      <th>998</th>\n",
       "      <td>0.137506</td>\n",
       "      <td>0.156827</td>\n",
       "      <td>0.279192</td>\n",
       "      <td>0.059636</td>\n",
       "      <td>0.095322</td>\n",
       "      <td>0.188603</td>\n",
       "      <td>0.039688</td>\n",
       "    </tr>\n",
       "    <tr>\n",
       "      <th>999</th>\n",
       "      <td>0.086830</td>\n",
       "      <td>0.125637</td>\n",
       "      <td>0.138732</td>\n",
       "      <td>0.222667</td>\n",
       "      <td>0.167912</td>\n",
       "      <td>0.069555</td>\n",
       "      <td>0.005739</td>\n",
       "    </tr>\n",
       "  </tbody>\n",
       "</table>\n",
       "<p>1000 rows × 7 columns</p>\n",
       "</div>"
      ],
      "text/plain": [
       "            0         1         2         3         4         5         6\n",
       "0    0.160542  0.056404  0.242278  0.072361  0.076491  0.343009 -0.009291\n",
       "1    0.167887  0.058166  0.627765  0.035338  0.018291  0.135556  0.015490\n",
       "2    0.119652 -0.023229  0.020969 -0.061471  0.008222 -0.084056 -0.094814\n",
       "3    0.114707  0.075219  0.322061  0.014805  0.000372  0.052629 -0.044421\n",
       "4    0.185891  0.077953  0.051646  0.421408  0.101421  0.169106  0.064178\n",
       "..        ...       ...       ...       ...       ...       ...       ...\n",
       "995  0.198295  0.124590  0.122981  0.062572  0.166792  0.092676  0.087451\n",
       "996  0.123134  0.157537  0.103651  0.235614  0.164821  0.249644  0.062077\n",
       "997  0.072198  0.130771  0.212893  0.014142  0.112474  0.066137  0.001815\n",
       "998  0.137506  0.156827  0.279192  0.059636  0.095322  0.188603  0.039688\n",
       "999  0.086830  0.125637  0.138732  0.222667  0.167912  0.069555  0.005739\n",
       "\n",
       "[1000 rows x 7 columns]"
      ]
     },
     "execution_count": 152,
     "metadata": {},
     "output_type": "execute_result"
    }
   ],
   "source": [
    "x_T = np.array([pool.burn_and_swap(l) for pool in end_pools])\n",
    "log_ret = np.log(x_T)\n",
    "Y = pd.DataFrame(log_ret)\n",
    "Y"
   ]
  },
  {
   "cell_type": "code",
   "execution_count": 154,
   "metadata": {},
   "outputs": [
    {
     "data": {
      "text/plain": [
       "<matplotlib.legend.Legend at 0x2978efa00>"
      ]
     },
     "execution_count": 154,
     "metadata": {},
     "output_type": "execute_result"
    },
    {
     "data": {
      "image/png": "[encoded data removed]",
      "text/plain": [
       "<Figure size 432x288 with 1 Axes>"
      ]
     },
     "metadata": {},
     "output_type": "display_data"
    }
   ],
   "source": [
    "for i in range(log_ret.shape[1]):\n",
    "    sns.kdeplot(log_ret[:, i], label=i)\n",
    "    \n",
    "plt.xlim((-0.2, 0.2))\n",
    "plt.legend()"
   ]
  },
  {
   "cell_type": "markdown",
   "metadata": {},
   "source": [
    "# Portfolio optimization"
   ]
  },
  {
   "cell_type": "code",
   "execution_count": 155,
   "metadata": {},
   "outputs": [],
   "source": [
    "import riskfolio as rp\n",
    "import pandas as pd"
   ]
  },
  {
   "cell_type": "code",
   "execution_count": 156,
   "metadata": {},
   "outputs": [
    {
     "data": {
      "text/html": [
       "<div>\n",
       "<style scoped>\n",
       "    .dataframe tbody tr th:only-of-type {\n",
       "        vertical-align: middle;\n",
       "    }\n",
       "\n",
       "    .dataframe tbody tr th {\n",
       "        vertical-align: top;\n",
       "    }\n",
       "\n",
       "    .dataframe thead th {\n",
       "        text-align: right;\n",
       "    }\n",
       "</style>\n",
       "<table border=\"1\" class=\"dataframe\">\n",
       "  <thead>\n",
       "    <tr style=\"text-align: right;\">\n",
       "      <th></th>\n",
       "      <th>0</th>\n",
       "      <th>1</th>\n",
       "      <th>2</th>\n",
       "      <th>3</th>\n",
       "      <th>4</th>\n",
       "      <th>5</th>\n",
       "      <th>6</th>\n",
       "    </tr>\n",
       "  </thead>\n",
       "  <tbody>\n",
       "    <tr>\n",
       "      <th>weights</th>\n",
       "      <td>0.529259</td>\n",
       "      <td>0.265938</td>\n",
       "      <td>0.086156</td>\n",
       "      <td>0.0475</td>\n",
       "      <td>0.04057</td>\n",
       "      <td>0.030577</td>\n",
       "      <td>3.138133e-14</td>\n",
       "    </tr>\n",
       "  </tbody>\n",
       "</table>\n",
       "</div>"
      ],
      "text/plain": [
       "                0         1         2       3        4         5             6\n",
       "weights  0.529259  0.265938  0.086156  0.0475  0.04057  0.030577  3.138133e-14"
      ]
     },
     "metadata": {},
     "output_type": "display_data"
    }
   ],
   "source": [
    "import riskfolio as rp\n",
    "\n",
    "# Building the portfolio object\n",
    "port = rp.Portfolio(returns=Y)\n",
    "\n",
    "# Calculating optimal portfolio\n",
    "\n",
    "# Select method and estimate input parameters:\n",
    "\n",
    "method_mu='hist' # Method to estimate expected returns based on historical data.\n",
    "method_cov='hist' # Method to estimate covariance matrix based on historical data.\n",
    "\n",
    "port.assets_stats(method_mu=method_mu, method_cov=method_cov, d=0.94)\n",
    "\n",
    "# Estimate optimal portfolio:\n",
    "\n",
    "model='Classic' # Could be Classic (historical), BL (Black Litterman) or FM (Factor Model)\n",
    "rm = 'CVaR' # Risk measure used, this time will be variance\n",
    "obj = 'MinRisk' # Objective function, could be MinRisk, MaxRet, Utility or Sharpe\n",
    "hist = True # Use historical scenarios for risk measures that depend on scenarios\n",
    "rf = 0 # Risk free rate\n",
    "l = 0 # Risk aversion factor, only useful when obj is 'Utility'\n",
    "\n",
    "w = port.optimization(model=model, rm=rm, obj=obj, rf=rf, l=l, hist=hist)\n",
    "\n",
    "display(w.T)"
   ]
  },
  {
   "cell_type": "code",
   "execution_count": 167,
   "metadata": {},
   "outputs": [
    {
     "data": {
      "text/plain": [
       "<AxesSubplot:ylabel='Density'>"
      ]
     },
     "execution_count": 167,
     "metadata": {},
     "output_type": "execute_result"
    },
    {
     "data": {
      "image/png": "[encoded data removed]",
      "text/plain": [
       "<Figure size 432x288 with 1 Axes>"
      ]
     },
     "metadata": {},
     "output_type": "display_data"
    }
   ],
   "source": [
    "portfolio_returns = log_ret @ w\n",
    "sns.kdeplot(portfolio_returns.to_numpy().T[0])"
   ]
  }
 ],
 "metadata": {
  "kernelspec": {
   "display_name": "Python 3 (ipykernel)",
   "language": "python",
   "name": "python3"
  },
  "language_info": {
   "codemirror_mode": {
    "name": "ipython",
    "version": 3
   },
   "file_extension": ".py",
   "mimetype": "text/x-python",
   "name": "python",
   "nbconvert_exporter": "python",
   "pygments_lexer": "ipython3",
   "version": "3.9.13"
  }
 },
 "nbformat": 4,
 "nbformat_minor": 4
}
