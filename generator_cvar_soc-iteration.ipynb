{
 "cells": [
  {
   "cell_type": "code",
   "execution_count": 1,
   "metadata": {},
   "outputs": [],
   "source": [
    "from amm import amm\n",
    "import numpy as np\n",
    "from scipy.stats import norm\n",
    "\n",
    "import matplotlib.pyplot as plt\n",
    "# plt.style.use('paper.mplstyle')\n",
    "\n",
    "import seaborn as sns\n",
    "sns.set_theme(style=\"ticks\")\n",
    "\n",
    "import statsmodels.api as sm\n",
    "import matplotlib.ticker as mtick\n",
    "import pickle\n",
    "import pandas as pd\n",
    "\n",
    "import cvxpy as cp\n",
    "import numpy as np\n",
    "from scipy.linalg import sqrtm\n",
    "from tqdm import tqdm"
   ]
  },
  {
   "cell_type": "markdown",
   "metadata": {},
   "source": [
    "# Helper functions"
   ]
  },
  {
   "cell_type": "code",
   "execution_count": 2,
   "metadata": {},
   "outputs": [],
   "source": [
    "def plot_hist(returns, zeta=0.05, alpha=0.05, q):\n",
    "    \n",
    "    sns.kdeplot(returns)\n",
    "    \n",
    "    p = np.mean(returns >= zeta)\n",
    "    var = np.quantile(returns, alpha)\n",
    "    qtl = np.quantile(returns, 1-q)\n",
    "    cvar = float(np.sum(returns * (returns <= var)) / np.sum(returns <= var)) / (1 - alpha)\n",
    "\n",
    "    plt.title(f'$\\\\zeta$ = {zeta}, $\\\\alpha$={alpha}, q={q}')\n",
    "    plt.axvline(var, c='y', linestyle='--', label=f'$VaR={var:4.4}$')\n",
    "    plt.axvline(cvar, c='r', linestyle='--', label=f'$CVaR={cvar:4.4}$')\n",
    "    plt.axvline(zeta, c='g', linestyle='--', label=f'$P(r\\geq{zeta:.4})={p}$')\n",
    "    plt.axvline(qtl, c='m', linestyle='--', label=f'$P(r\\geq{qtl:.4})={q:.4}$')\n",
    "    plt.legend()"
   ]
  },
  {
   "cell_type": "markdown",
   "metadata": {},
   "source": [
    "# Parameters"
   ]
  },
  {
   "cell_type": "code",
   "execution_count": 69,
   "metadata": {},
   "outputs": [],
   "source": [
    "N_pools = 6\n",
    "params = {'N_pools': N_pools,\n",
    "          'Rx0': 100 * np.ones(N_pools),\n",
    "          'Ry0': 1000 * np.ones(N_pools),\n",
    "          'phi': 0.03 * np.ones(N_pools),\n",
    "          'x_0': 10,\n",
    "          'alpha': 0.1,\n",
    "          'q': 0.8,\n",
    "          'zeta': 0.05,\n",
    "          'batch_size': 1_000,\n",
    "          'kappa': np.array([0.25, 0.5, 0.5, 0.5, 0.5, 0.5, 0.5]),\n",
    "          'sigma': np.array([1, 0.3, 0.5, 1.5, 1.75, 2, 2.25]),\n",
    "          'p': np.array([0.35, 0.3, 0.34, 0.33, 0.32, 0.31, 0.3]),\n",
    "          'T': 60,\n",
    "          'seed': 4294967143}\n",
    "\n",
    "locals().update(params)"
   ]
  },
  {
   "cell_type": "markdown",
   "metadata": {},
   "source": [
    "## Initial Conditions"
   ]
  },
  {
   "cell_type": "code",
   "execution_count": 81,
   "metadata": {},
   "outputs": [],
   "source": [
    "x_0 = 40\n",
    "zero = 1e-4\n",
    "xs_0 = np.repeat(x_0/N_pools, N_pools)\n",
    "relo = np.vectorize(lambda x: np.max([x, zero]))"
   ]
  },
  {
   "cell_type": "code",
   "execution_count": 86,
   "metadata": {},
   "outputs": [],
   "source": [
    "# convergence parameters:\n",
    "epochs = 6"
   ]
  },
  {
   "cell_type": "markdown",
   "metadata": {},
   "source": [
    "## Simulation"
   ]
  },
  {
   "cell_type": "code",
   "execution_count": 87,
   "metadata": {
    "scrolled": true
   },
   "outputs": [
    {
     "name": "stderr",
     "output_type": "stream",
     "text": [
      "100%|█████████████████████████████████████████████████████████████████████████████| 1000/1000 [00:07<00:00, 137.98it/s]\n",
      "100%|█████████████████████████████████████████████████████████████████████████████| 1000/1000 [00:07<00:00, 136.19it/s]\n",
      "100%|█████████████████████████████████████████████████████████████████████████████| 1000/1000 [00:07<00:00, 138.37it/s]\n",
      "100%|█████████████████████████████████████████████████████████████████████████████| 1000/1000 [00:07<00:00, 138.87it/s]\n",
      "100%|█████████████████████████████████████████████████████████████████████████████| 1000/1000 [00:07<00:00, 137.22it/s]\n",
      "100%|█████████████████████████████████████████████████████████████████████████████| 1000/1000 [00:07<00:00, 137.80it/s]\n"
     ]
    }
   ],
   "source": [
    "norm_difference = 1\n",
    "weights_over_time = [np.repeat(1/N_pools, N_pools)]\n",
    "\n",
    "for i in range(epochs):\n",
    "    \n",
    "    #initialise the pools and mint liquidity tokens\n",
    "    pools = amm(Rx=Rx0, Ry=Ry0, phi=phi)\n",
    "    l = pools.swap_and_mint(xs_0)\n",
    "\n",
    "    # generate returns\n",
    "    np.random.seed(seed)\n",
    "    end_pools, Rx_t, Ry_t, v_t, event_type_t, event_direction_t = pools.simulate(kappa, p, sigma, T=T, batch_size=batch_size)\n",
    "    \n",
    "    x_T = np.array([pool.burn_and_swap(l) for pool in end_pools])\n",
    "    log_ret = np.log(x_T/xs_0)\n",
    "    \n",
    "    # optimise\n",
    "    N_returns, N_assets = log_ret.shape\n",
    "\n",
    "    weights = cp.Variable((N_assets,))\n",
    "    X = log_ret @ weights\n",
    "\n",
    "    Z = cp.Variable((N_returns,))\n",
    "    var = cp.Variable((1,))\n",
    "    cvar = var + 1 / (alpha * N_returns) * cp.sum(Z)\n",
    "\n",
    "    constraints = [cp.sum(weights) == 1., weights <= 1., weights * 1000 >= 0]\n",
    "\n",
    "    # CVaR constraints\n",
    "    constraints += [Z * 1000 >= 0, Z * 1000 >= -X * 1000 - var * 1000]\n",
    "\n",
    "    # lower bound: average of emp cdf:\n",
    "    # might not be a valid constraint!\n",
    "    emp_cdf_005 = np.mean(log_ret >= 0.05, axis=0)\n",
    "    constraints += [emp_cdf_005 @ weights * 1000 >= q * 1000]\n",
    "\n",
    "    objective = cp.Minimize(cvar * 1000)\n",
    "    \n",
    "    prob = cp.Problem(objective, constraints)\n",
    "    result = prob.solve(solver=\"ECOS\")\n",
    "    \n",
    "    # extract optimisation result\n",
    "    weights_over_time.append(weights.value)\n",
    "    xs_0 = relo(x_0 * weights.value)"
   ]
  },
  {
   "cell_type": "markdown",
   "metadata": {},
   "source": [
    "## Visualising results"
   ]
  },
  {
   "cell_type": "code",
   "execution_count": 88,
   "metadata": {},
   "outputs": [
    {
     "data": {
      "text/html": [
       "<div>\n",
       "<style scoped>\n",
       "    .dataframe tbody tr th:only-of-type {\n",
       "        vertical-align: middle;\n",
       "    }\n",
       "\n",
       "    .dataframe tbody tr th {\n",
       "        vertical-align: top;\n",
       "    }\n",
       "\n",
       "    .dataframe thead th {\n",
       "        text-align: right;\n",
       "    }\n",
       "</style>\n",
       "<table border=\"1\" class=\"dataframe\">\n",
       "  <thead>\n",
       "    <tr style=\"text-align: right;\">\n",
       "      <th></th>\n",
       "      <th>0</th>\n",
       "      <th>1</th>\n",
       "      <th>2</th>\n",
       "      <th>3</th>\n",
       "      <th>4</th>\n",
       "      <th>5</th>\n",
       "    </tr>\n",
       "  </thead>\n",
       "  <tbody>\n",
       "    <tr>\n",
       "      <th>0</th>\n",
       "      <td>0.166667</td>\n",
       "      <td>0.166667</td>\n",
       "      <td>1.666667e-01</td>\n",
       "      <td>0.166667</td>\n",
       "      <td>0.166667</td>\n",
       "      <td>1.666667e-01</td>\n",
       "    </tr>\n",
       "    <tr>\n",
       "      <th>1</th>\n",
       "      <td>0.808862</td>\n",
       "      <td>0.137069</td>\n",
       "      <td>3.379044e-15</td>\n",
       "      <td>0.044809</td>\n",
       "      <td>0.009260</td>\n",
       "      <td>-6.298267e-16</td>\n",
       "    </tr>\n",
       "    <tr>\n",
       "      <th>2</th>\n",
       "      <td>0.818048</td>\n",
       "      <td>0.130981</td>\n",
       "      <td>1.078463e-13</td>\n",
       "      <td>0.042775</td>\n",
       "      <td>0.008196</td>\n",
       "      <td>-1.593457e-14</td>\n",
       "    </tr>\n",
       "    <tr>\n",
       "      <th>3</th>\n",
       "      <td>0.843056</td>\n",
       "      <td>0.119519</td>\n",
       "      <td>5.633773e-15</td>\n",
       "      <td>0.032641</td>\n",
       "      <td>0.004784</td>\n",
       "      <td>-3.309089e-14</td>\n",
       "    </tr>\n",
       "    <tr>\n",
       "      <th>4</th>\n",
       "      <td>0.847168</td>\n",
       "      <td>0.118899</td>\n",
       "      <td>-7.809879e-16</td>\n",
       "      <td>0.029070</td>\n",
       "      <td>0.004864</td>\n",
       "      <td>-3.420255e-15</td>\n",
       "    </tr>\n",
       "    <tr>\n",
       "      <th>5</th>\n",
       "      <td>0.847248</td>\n",
       "      <td>0.118743</td>\n",
       "      <td>-1.208134e-15</td>\n",
       "      <td>0.029154</td>\n",
       "      <td>0.004855</td>\n",
       "      <td>-6.129727e-15</td>\n",
       "    </tr>\n",
       "    <tr>\n",
       "      <th>6</th>\n",
       "      <td>0.847252</td>\n",
       "      <td>0.118734</td>\n",
       "      <td>-1.144139e-15</td>\n",
       "      <td>0.029159</td>\n",
       "      <td>0.004855</td>\n",
       "      <td>-5.868786e-15</td>\n",
       "    </tr>\n",
       "  </tbody>\n",
       "</table>\n",
       "</div>"
      ],
      "text/plain": [
       "          0         1             2         3         4             5\n",
       "0  0.166667  0.166667  1.666667e-01  0.166667  0.166667  1.666667e-01\n",
       "1  0.808862  0.137069  3.379044e-15  0.044809  0.009260 -6.298267e-16\n",
       "2  0.818048  0.130981  1.078463e-13  0.042775  0.008196 -1.593457e-14\n",
       "3  0.843056  0.119519  5.633773e-15  0.032641  0.004784 -3.309089e-14\n",
       "4  0.847168  0.118899 -7.809879e-16  0.029070  0.004864 -3.420255e-15\n",
       "5  0.847248  0.118743 -1.208134e-15  0.029154  0.004855 -6.129727e-15\n",
       "6  0.847252  0.118734 -1.144139e-15  0.029159  0.004855 -5.868786e-15"
      ]
     },
     "execution_count": 88,
     "metadata": {},
     "output_type": "execute_result"
    }
   ],
   "source": [
    "pd.DataFrame(weights_over_time)"
   ]
  },
  {
   "cell_type": "code",
   "execution_count": null,
   "metadata": {},
   "outputs": [
    {
     "name": "stderr",
     "output_type": "stream",
     "text": [
      "100%|█████████████████████████████████████████████████████████████████████████████| 1000/1000 [00:07<00:00, 137.97it/s]\n"
     ]
    },
    {
     "data": {
      "text/plain": [
       "array([0.16666667, 0.16666667, 0.16666667, 0.16666667, 0.16666667,\n",
       "       0.16666667])"
      ]
     },
     "metadata": {},
     "output_type": "display_data"
    },
    {
     "data": {
      "image/png": "[encoded data removed]",
      "text/plain": [
       "<Figure size 432x288 with 1 Axes>"
      ]
     },
     "metadata": {},
     "output_type": "display_data"
    },
    {
     "name": "stderr",
     "output_type": "stream",
     "text": [
      "100%|█████████████████████████████████████████████████████████████████████████████| 1000/1000 [00:07<00:00, 137.37it/s]\n"
     ]
    },
    {
     "data": {
      "text/plain": [
       "array([ 8.08861992e-01,  1.37068647e-01,  3.37904438e-15,  4.48094145e-02,\n",
       "        9.25994704e-03, -6.29826703e-16])"
      ]
     },
     "metadata": {},
     "output_type": "display_data"
    },
    {
     "data": {
      "image/png": "[encoded data removed]",
      "text/plain": [
       "<Figure size 432x288 with 1 Axes>"
      ]
     },
     "metadata": {},
     "output_type": "display_data"
    },
    {
     "name": "stderr",
     "output_type": "stream",
     "text": [
      "100%|█████████████████████████████████████████████████████████████████████████████| 1000/1000 [00:07<00:00, 134.78it/s]\n"
     ]
    },
    {
     "data": {
      "text/plain": [
       "array([ 8.18048368e-01,  1.30980673e-01,  1.07846325e-13,  4.27753889e-02,\n",
       "        8.19556984e-03, -1.59345730e-14])"
      ]
     },
     "metadata": {},
     "output_type": "display_data"
    },
    {
     "data": {
      "image/png": "[encoded data removed]",
      "text/plain": [
       "<Figure size 432x288 with 1 Axes>"
      ]
     },
     "metadata": {},
     "output_type": "display_data"
    },
    {
     "name": "stderr",
     "output_type": "stream",
     "text": [
      " 34%|██████████████████████████▋                                                   | 342/1000 [00:02<00:04, 136.43it/s]"
     ]
    }
   ],
   "source": [
    "# visualise results of weights\n",
    "for weights in weights_over_time:\n",
    "    xs_0 = relo(x_0 * weights)\n",
    "    pools = amm(Rx=Rx0, Ry=Ry0, phi=phi)\n",
    "    l = pools.swap_and_mint(xs_0)\n",
    "\n",
    "    # generate returns\n",
    "    np.random.seed(seed)\n",
    "    end_pools, Rx_t, Ry_t, v_t, event_type_t, event_direction_t = pools.simulate(kappa, p, sigma, T=T, batch_size=batch_size)\n",
    "    \n",
    "    x_T = np.array([pool.burn_and_swap(l) for pool in end_pools])\n",
    "    log_ret = np.log(x_T/xs_0)\n",
    "    portfolio_returns = log_ret @ weights\n",
    "    display(weights)\n",
    "    plot_hist(portfolio_returns, zeta=zeta, alpha=alpha, q=q)\n",
    "    plt.show()"
   ]
  },
  {
   "cell_type": "code",
   "execution_count": 76,
   "metadata": {
    "scrolled": true
   },
   "outputs": [
    {
     "data": {
      "text/html": [
       "<div>\n",
       "<style scoped>\n",
       "    .dataframe tbody tr th:only-of-type {\n",
       "        vertical-align: middle;\n",
       "    }\n",
       "\n",
       "    .dataframe tbody tr th {\n",
       "        vertical-align: top;\n",
       "    }\n",
       "\n",
       "    .dataframe thead th {\n",
       "        text-align: right;\n",
       "    }\n",
       "</style>\n",
       "<table border=\"1\" class=\"dataframe\">\n",
       "  <thead>\n",
       "    <tr style=\"text-align: right;\">\n",
       "      <th></th>\n",
       "      <th>0</th>\n",
       "      <th>1</th>\n",
       "      <th>2</th>\n",
       "      <th>3</th>\n",
       "      <th>4</th>\n",
       "      <th>5</th>\n",
       "    </tr>\n",
       "  </thead>\n",
       "  <tbody>\n",
       "    <tr>\n",
       "      <th>0</th>\n",
       "      <td>0.166667</td>\n",
       "      <td>0.166667</td>\n",
       "      <td>0.166667</td>\n",
       "      <td>0.166667</td>\n",
       "      <td>0.166667</td>\n",
       "      <td>0.166667</td>\n",
       "    </tr>\n",
       "    <tr>\n",
       "      <th>1</th>\n",
       "      <td>0.612785</td>\n",
       "      <td>0.227794</td>\n",
       "      <td>0.035103</td>\n",
       "      <td>0.095061</td>\n",
       "      <td>0.022119</td>\n",
       "      <td>0.007139</td>\n",
       "    </tr>\n",
       "    <tr>\n",
       "      <th>2</th>\n",
       "      <td>0.630733</td>\n",
       "      <td>0.227394</td>\n",
       "      <td>0.036176</td>\n",
       "      <td>0.082034</td>\n",
       "      <td>0.020562</td>\n",
       "      <td>0.003100</td>\n",
       "    </tr>\n",
       "    <tr>\n",
       "      <th>3</th>\n",
       "      <td>0.629077</td>\n",
       "      <td>0.231181</td>\n",
       "      <td>0.032459</td>\n",
       "      <td>0.084006</td>\n",
       "      <td>0.020495</td>\n",
       "      <td>0.002783</td>\n",
       "    </tr>\n",
       "  </tbody>\n",
       "</table>\n",
       "</div>"
      ],
      "text/plain": [
       "          0         1         2         3         4         5\n",
       "0  0.166667  0.166667  0.166667  0.166667  0.166667  0.166667\n",
       "1  0.612785  0.227794  0.035103  0.095061  0.022119  0.007139\n",
       "2  0.630733  0.227394  0.036176  0.082034  0.020562  0.003100\n",
       "3  0.629077  0.231181  0.032459  0.084006  0.020495  0.002783"
      ]
     },
     "execution_count": 76,
     "metadata": {},
     "output_type": "execute_result"
    }
   ],
   "source": []
  }
 ],
 "metadata": {
  "kernelspec": {
   "display_name": "Python 3 (ipykernel)",
   "language": "python",
   "name": "python3"
  },
  "language_info": {
   "codemirror_mode": {
    "name": "ipython",
    "version": 3
   },
   "file_extension": ".py",
   "mimetype": "text/x-python",
   "name": "python",
   "nbconvert_exporter": "python",
   "pygments_lexer": "ipython3",
   "version": "3.9.12"
  }
 },
 "nbformat": 4,
 "nbformat_minor": 4
}
